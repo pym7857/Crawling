{
 "cells": [
  {
   "cell_type": "code",
   "execution_count": 5,
   "metadata": {},
   "outputs": [],
   "source": [
    "import urllib.request\n",
    "from bs4 import BeautifulSoup\n",
    "\n",
    "class Review:\n",
    "    def __init__(self, comment, date, star, good, bad):\n",
    "        self.comment = comment\n",
    "        self.date = date\n",
    "        self.star = star\n",
    "        self.good = good\n",
    "        self.bad = bad\n",
    "        \n",
    "    def show(self):\n",
    "        print(\"내용: \" + self.comment +\n",
    "             \"\\n날짜: \" + self.date +\n",
    "             \"\\n별점: \" + self.star +\n",
    "             \"\\n좋아요: \" + self.good +\n",
    "             \"\\n싫어요: \" + self.bad)\n",
    "        \n",
    "def crawl(url):\n",
    "    soup = BeautifulSoup(urllib.request.urlopen(url).read(), \"html.parser\")\n",
    "    review_list = [] \n",
    "    title = soup.find('h3', class_=\"h_movie\").find('a').text\n",
    "    div = soup.find('div', class_='score_result')\n",
    "    data_list = div.select('ul > li')\n",
    "    \n",
    "    for review in data_list:\n",
    "        star = review.find('div', class_='star_score').text.strip()\n",
    "        reply = review.find(\"div\", class_=\"score_reple\")\n",
    "        comment = reply.find(\"p\").text\n",
    "        date = reply.select(\"dt > em\")[1].text.strip()\n",
    "        button = review.find(\"div\", class_=\"btn_area\")\n",
    "        sympathy = button.select(\"strong > span\")\n",
    "        good = sympathy[0].text\n",
    "        bad = sympathy[1].text\n",
    "        review_list.append(Review(comment, date, star, good, bad))\n",
    "        \n",
    "    return title, review_list "
   ]
  },
  {
   "cell_type": "code",
   "execution_count": 6,
   "metadata": {},
   "outputs": [
    {
     "name": "stdout",
     "output_type": "stream",
     "text": [
      "[ 어벤져스: 엔드게임 ]\n",
      "   Star   Good  Bad     Score\n",
      "0    10  22638  633  0.972799\n",
      "1    10  14914  420  0.972610\n",
      "2    10  14530  451  0.969895\n",
      "3    10  12497  519  0.960126\n",
      "4    10  11287  409  0.965031\n",
      "[ 명탐정 피카츄 ]\n",
      "   Star  Good  Bad     Score\n",
      "0    10  1876  103  0.947954\n",
      "1    10   949   81  0.921359\n",
      "2    10   802   71  0.918671\n",
      "3     8   925  282  0.766363\n",
      "4     8   582   34  0.944805\n",
      "[ 고양이 여행 리포트 ]\n",
      "   Star  Good  Bad     Score\n",
      "0    10    59    5  0.921875\n",
      "1    10    36    3  0.923077\n",
      "2     6    40   18  0.689655\n",
      "3    10    23    2  0.920000\n",
      "4    10    25    4  0.862069\n",
      "[ 물의 기억 ]\n",
      "   Star  Good  Bad     Score\n",
      "0    10    28   10  0.736842\n",
      "1    10    26   10  0.722222\n",
      "2    10    23    9  0.718750\n",
      "3    10    14    2  0.875000\n",
      "4    10    18    6  0.750000\n",
      "[ 더 캡틴 ]\n",
      "   Star  Good  Bad     Score\n",
      "0     9    67   11  0.858974\n",
      "1    10    37    4  0.902439\n",
      "2    10    36    7  0.837209\n",
      "3     8    30    5  0.857143\n",
      "4     8    21    0  1.000000\n"
     ]
    }
   ],
   "source": [
    "import pandas as pd\n",
    "\n",
    "def get_summary(review_list): # 데이터 프레임화\n",
    "    star_list = []\n",
    "    good_list = []\n",
    "    bad_list = []\n",
    "  \n",
    "    for review in review_list:\n",
    "        star_list.append(int(review.star))\n",
    "        good_list.append(int(review.good))\n",
    "        bad_list.append(int(review.bad))\n",
    "    \n",
    "    star_series = pd.Series(star_list)\n",
    "    good_series = pd.Series(good_list)\n",
    "    bad_series = pd.Series(bad_list)\n",
    "  \n",
    "    summary = pd.DataFrame({\n",
    "        'Star': star_series,\n",
    "        'Good': good_series,\n",
    "        'Bad': bad_series,\n",
    "        'Score': good_series / (good_series + bad_series)\n",
    "    })\n",
    "  \n",
    "    return summary\n",
    "\n",
    "movie_code_list = [136900, 167657, 174321, 184859, 167391]\n",
    "review_lists = []\n",
    "\n",
    "for i in movie_code_list:\n",
    "    title, review_list = crawl(\"https://movie.naver.com/movie/bi/mi/basic.nhn?code=\" + str(i))\n",
    "    summary = get_summary(review_list)\n",
    "    print(\"[ %s ]\" % (title))\n",
    "    print(summary)\n",
    "    review_lists.append((title, review_list))"
   ]
  },
  {
   "cell_type": "code",
   "execution_count": 8,
   "metadata": {},
   "outputs": [
    {
     "data": {
      "image/png": "[encoded data removed]",
      "text/plain": [
       "<Figure size 432x288 with 1 Axes>"
      ]
     },
     "metadata": {
      "needs_background": "light"
     },
     "output_type": "display_data"
    }
   ],
   "source": [
    "import matplotlib\n",
    "import matplotlib.pyplot as plt\n",
    "import matplotlib.font_manager as fm\n",
    "\n",
    "font_path = './data/NanumBarunGothic.ttf'\n",
    "fontprop = fm.FontProperties(fname=font_path, size=18)\n",
    "\n",
    "def movie_compare(review_lists):\n",
    "    count = 1\n",
    "    x = []\n",
    "    y = []\n",
    "    for movie, review_list in review_lists:\n",
    "        x.append(count)\n",
    "        summary = get_summary(review_list)\n",
    "        summary = summary[summary['Score'] > 0.8]\n",
    "        y.append(summary['Star'].mean())\n",
    "        count += 1\n",
    "    plt.bar(x, y)\n",
    "    plt.title('영화 별점 비교', fontproperties=fontprop)\n",
    "    plt.xlabel('영화 번호', fontproperties=fontprop)\n",
    "    plt.ylabel('신뢰성 별점 평균', fontproperties=fontprop)\n",
    "    plt.show()\n",
    "    \n",
    "movie_compare(review_lists)"
   ]
  }
 ],
 "metadata": {
  "kernelspec": {
   "display_name": "Python 3",
   "language": "python",
   "name": "python3"
  },
  "language_info": {
   "codemirror_mode": {
    "name": "ipython",
    "version": 3
   },
   "file_extension": ".py",
   "mimetype": "text/x-python",
   "name": "python",
   "nbconvert_exporter": "python",
   "pygments_lexer": "ipython3",
   "version": "3.6.9"
  }
 },
 "nbformat": 4,
 "nbformat_minor": 2
}
